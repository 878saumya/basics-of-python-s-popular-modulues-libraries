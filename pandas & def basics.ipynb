{
 "cells": [
  {
   "cell_type": "code",
   "execution_count": 3,
   "metadata": {},
   "outputs": [
    {
     "name": "stdout",
     "output_type": "stream",
     "text": [
      "deep\n",
      "khowai\n",
      "20\n"
     ]
    }
   ],
   "source": [
    "#def function\n",
    "def saumya(name,place,age=18):\n",
    "    print(name)\n",
    "    print(place)\n",
    "    print(age)\n",
    "    \n",
    "saumya(\"deep\",\"khowai\",20)    \n",
    "    "
   ]
  },
  {
   "cell_type": "code",
   "execution_count": 6,
   "metadata": {},
   "outputs": [
    {
     "data": {
      "text/plain": [
       "1.0000000000000109"
      ]
     },
     "execution_count": 6,
     "metadata": {},
     "output_type": "execute_result"
    }
   ],
   "source": [
    "def sigmoid(x):\n",
    "    e=2.732\n",
    "    y=1/1+e**(-x)\n",
    "    return y\n",
    "sigmoid(32)"
   ]
  },
  {
   "cell_type": "code",
   "execution_count": 1,
   "metadata": {},
   "outputs": [
    {
     "name": "stdout",
     "output_type": "stream",
     "text": [
      "deep\n"
     ]
    }
   ],
   "source": [
    "# class & objects\n",
    "class cricket:\n",
    "    def __init__(self,name,age):\n",
    "        self.name=name\n",
    "        self.age=age\n",
    "        \n",
    "saumya=cricket(\"deep\",20)    #here \"saumya\" is the object & cricket is the class.\n",
    "print(saumya.name)\n"
   ]
  },
  {
   "cell_type": "code",
   "execution_count": 4,
   "metadata": {},
   "outputs": [
    {
     "name": "stdout",
     "output_type": "stream",
     "text": [
      "deepdeep\n",
      "badbadbad\n",
      "badbadbad\n",
      "badbadbad\n"
     ]
    }
   ],
   "source": [
    "l=[\"deep\",\"rahul\",\"tukan\",\"joy\"]\n",
    "for i in l :\n",
    "    if i==\"deep\":\n",
    "        print(i*2)\n",
    "    else :\n",
    "        print(\"bad\"*3)\n",
    "\n",
    "    \n",
    "     "
   ]
  },
  {
   "cell_type": "code",
   "execution_count": 6,
   "metadata": {},
   "outputs": [
    {
     "name": "stdout",
     "output_type": "stream",
     "text": [
      "0\n",
      "1\n",
      "2\n",
      "3\n",
      "4\n",
      "5\n",
      "6\n",
      "7\n",
      "8\n",
      "9\n",
      "10\n"
     ]
    }
   ],
   "source": [
    "i=0\n",
    "for i in range (10):\n",
    "    print(i)\n",
    "    \n",
    "print(5+5)    "
   ]
  },
  {
   "cell_type": "code",
   "execution_count": 7,
   "metadata": {},
   "outputs": [
    {
     "name": "stdout",
     "output_type": "stream",
     "text": [
      "          1         2         3         4         5\n",
      "a  0.239781  0.122927  0.150462  0.068357  0.536644\n",
      "b  0.002573  0.739686  0.861311  0.305352  0.643857\n",
      "c  0.358896  0.938203  0.906342  0.460802  0.861425\n",
      "d  0.021238  0.474419  0.728262  0.919204  0.313128\n",
      "e  0.362388  0.484770  0.070940  0.630871  0.141464\n"
     ]
    }
   ],
   "source": [
    "import numpy as np \n",
    "import pandas as pd\n",
    "import scipy \n",
    "import random\n",
    "\n",
    "df=pd.DataFrame(np.random.rand(5,5), index=['a','b','c','d','e'], columns=['1','2','3','4','5'])\n",
    "print(df)"
   ]
  },
  {
   "cell_type": "code",
   "execution_count": 8,
   "metadata": {},
   "outputs": [
    {
     "data": {
      "text/plain": [
       "0.8614252363719038"
      ]
     },
     "execution_count": 8,
     "metadata": {},
     "output_type": "execute_result"
    }
   ],
   "source": [
    "df.iloc[2,4]"
   ]
  },
  {
   "cell_type": "code",
   "execution_count": 9,
   "metadata": {},
   "outputs": [
    {
     "data": {
      "text/plain": [
       "0.919203931430499"
      ]
     },
     "execution_count": 9,
     "metadata": {},
     "output_type": "execute_result"
    }
   ],
   "source": [
    "df.loc[\"d\",\"4\"]"
   ]
  },
  {
   "cell_type": "code",
   "execution_count": 10,
   "metadata": {},
   "outputs": [
    {
     "data": {
      "text/html": [
       "<div>\n",
       "<style scoped>\n",
       "    .dataframe tbody tr th:only-of-type {\n",
       "        vertical-align: middle;\n",
       "    }\n",
       "\n",
       "    .dataframe tbody tr th {\n",
       "        vertical-align: top;\n",
       "    }\n",
       "\n",
       "    .dataframe thead th {\n",
       "        text-align: right;\n",
       "    }\n",
       "</style>\n",
       "<table border=\"1\" class=\"dataframe\">\n",
       "  <thead>\n",
       "    <tr style=\"text-align: right;\">\n",
       "      <th></th>\n",
       "      <th>1</th>\n",
       "      <th>2</th>\n",
       "      <th>3</th>\n",
       "      <th>4</th>\n",
       "      <th>5</th>\n",
       "    </tr>\n",
       "  </thead>\n",
       "  <tbody>\n",
       "    <tr>\n",
       "      <th>b</th>\n",
       "      <td>0.002573</td>\n",
       "      <td>0.739686</td>\n",
       "      <td>0.861311</td>\n",
       "      <td>0.305352</td>\n",
       "      <td>0.643857</td>\n",
       "    </tr>\n",
       "    <tr>\n",
       "      <th>c</th>\n",
       "      <td>0.358896</td>\n",
       "      <td>0.938203</td>\n",
       "      <td>0.906342</td>\n",
       "      <td>0.460802</td>\n",
       "      <td>0.861425</td>\n",
       "    </tr>\n",
       "    <tr>\n",
       "      <th>d</th>\n",
       "      <td>0.021238</td>\n",
       "      <td>0.474419</td>\n",
       "      <td>0.728262</td>\n",
       "      <td>0.919204</td>\n",
       "      <td>0.313128</td>\n",
       "    </tr>\n",
       "    <tr>\n",
       "      <th>e</th>\n",
       "      <td>0.362388</td>\n",
       "      <td>0.484770</td>\n",
       "      <td>0.070940</td>\n",
       "      <td>0.630871</td>\n",
       "      <td>0.141464</td>\n",
       "    </tr>\n",
       "  </tbody>\n",
       "</table>\n",
       "</div>"
      ],
      "text/plain": [
       "          1         2         3         4         5\n",
       "b  0.002573  0.739686  0.861311  0.305352  0.643857\n",
       "c  0.358896  0.938203  0.906342  0.460802  0.861425\n",
       "d  0.021238  0.474419  0.728262  0.919204  0.313128\n",
       "e  0.362388  0.484770  0.070940  0.630871  0.141464"
      ]
     },
     "execution_count": 10,
     "metadata": {},
     "output_type": "execute_result"
    }
   ],
   "source": [
    "df.drop(['a'])"
   ]
  },
  {
   "cell_type": "code",
   "execution_count": 11,
   "metadata": {},
   "outputs": [
    {
     "name": "stdout",
     "output_type": "stream",
     "text": [
      "          1         2         3         4         5\n",
      "a  0.239781  0.122927  0.150462  0.068357  0.536644\n",
      "b  0.002573  0.739686  0.861311  0.305352  0.643857\n",
      "c  0.358896  0.938203  0.906342  0.460802  0.861425\n",
      "d  0.021238  0.474419  0.728262  0.919204  0.313128\n",
      "e  0.362388  0.484770  0.070940  0.630871  0.141464\n"
     ]
    }
   ],
   "source": [
    "print(df)"
   ]
  },
  {
   "cell_type": "code",
   "execution_count": 16,
   "metadata": {},
   "outputs": [
    {
     "name": "stdout",
     "output_type": "stream",
     "text": [
      "          1         2         3         4         5\n",
      "c  0.358896  0.938203  0.906342  0.460802  0.861425\n",
      "d  0.021238  0.474419  0.728262  0.919204  0.313128\n",
      "e  0.362388  0.484770  0.070940  0.630871  0.141464\n"
     ]
    }
   ],
   "source": [
    "df.drop(['b'],inplace=True)\n",
    "print(df)"
   ]
  },
  {
   "cell_type": "code",
   "execution_count": 17,
   "metadata": {},
   "outputs": [
    {
     "name": "stdout",
     "output_type": "stream",
     "text": [
      "          1         2         3         4         5\n",
      "c  0.358896  0.938203  0.906342  0.460802  0.861425\n",
      "d  0.021238  0.474419  0.728262  0.919204  0.313128\n",
      "e  0.362388  0.484770  0.070940  0.630871  0.141464\n"
     ]
    }
   ],
   "source": [
    "print(df)"
   ]
  },
  {
   "cell_type": "code",
   "execution_count": 18,
   "metadata": {},
   "outputs": [
    {
     "name": "stdout",
     "output_type": "stream",
     "text": [
      "[[1 2 3]\n",
      " [4 5 6]\n",
      " [7 8 9]]\n"
     ]
    }
   ],
   "source": [
    "arr=np.array([[1,2,3],[4,5,6],[7,8,9]])\n",
    "print(arr)"
   ]
  },
  {
   "cell_type": "code",
   "execution_count": 19,
   "metadata": {},
   "outputs": [
    {
     "name": "stdout",
     "output_type": "stream",
     "text": [
      "[[2 5 9]\n",
      " [5 6 8]\n",
      " [7 3 4]]\n"
     ]
    }
   ],
   "source": [
    "arr1=np.array([[2,5,9],[5,6,8],[7,3,4]])\n",
    "print(arr1)"
   ]
  },
  {
   "cell_type": "code",
   "execution_count": 23,
   "metadata": {},
   "outputs": [
    {
     "name": "stdout",
     "output_type": "stream",
     "text": [
      "[[ 3  7 12]\n",
      " [ 9 11 14]\n",
      " [14 11 13]]\n",
      "[[ 2 10 27]\n",
      " [20 30 48]\n",
      " [49 24 36]]\n"
     ]
    }
   ],
   "source": [
    "print(arr+arr1)\n",
    "print(arr*arr1)"
   ]
  },
  {
   "cell_type": "code",
   "execution_count": 42,
   "metadata": {},
   "outputs": [
    {
     "name": "stdout",
     "output_type": "stream",
     "text": [
      "5\n",
      "8\n"
     ]
    }
   ],
   "source": [
    "class gogo:\n",
    "    def __init__(self,duck=5,punch=5,jump=5,rightmove=5,leftmove=5):  \n",
    "        self.duck=duck\n",
    "        self.punch=punch\n",
    "        self.jump=jump\n",
    "        self.rightmove=rightmove\n",
    "        self.leftmove=leftmove\n",
    "        \n",
    "        \n",
    "gogoman=gogo(5,5,4)  # here all activities of gogoman record & executes.\n",
    "print(gogoman.leftmove)\n",
    "\n",
    "gogo_women=gogo(1,5,8) # here all activities of gogo_women records & executes.\n",
    "print(gogo_women.jump)\n"
   ]
  },
  {
   "cell_type": "code",
   "execution_count": null,
   "metadata": {},
   "outputs": [],
   "source": [
    "class obstacle:\n",
    "    def__init__(self,size=0.5,shape=0.7,impact=0)\n",
    "    self.size=size\n",
    "    self.shape=shape\n",
    "    self.impact=impact\n",
    "    \n",
    "    if self.size>= 0.6:\n",
    "        print"
   ]
  }
 ],
 "metadata": {
  "kernelspec": {
   "display_name": "Python 3",
   "language": "python",
   "name": "python3"
  },
  "language_info": {
   "codemirror_mode": {
    "name": "ipython",
    "version": 3
   },
   "file_extension": ".py",
   "mimetype": "text/x-python",
   "name": "python",
   "nbconvert_exporter": "python",
   "pygments_lexer": "ipython3",
   "version": "3.8.3"
  }
 },
 "nbformat": 4,
 "nbformat_minor": 4
}
